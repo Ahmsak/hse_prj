{
 "cells": [
  {
   "cell_type": "code",
   "execution_count": 1,
   "metadata": {
    "collapsed": true
   },
   "outputs": [],
   "source": [
    "import requests\n",
    "from bs4 import BeautifulSoup\n",
    "\n",
    "\n",
    "# Этот блокнот собирает данные по клиническим исследованиям в РФ с веб-страницы http://nik2.itsvc.ru \n",
    "\n",
    "\n"
   ]
  },
  {
   "cell_type": "code",
   "execution_count": 7,
   "metadata": {
    "collapsed": false
   },
   "outputs": [],
   "source": [
    "# Cписки, это будущие колонки таблицы\n",
    "date = []\n",
    "fase = []\n",
    "link = []\n",
    "field = []\n",
    "tipe = []\n",
    "non = []\n",
    "non2n = [] \n",
    "# Cкрипт собирающий данные с http://nik2.itsvc.ru \n",
    "for i in range(9):\n",
    "    url = 'http://nik2.itsvc.ru/ki?title=&field_oblprimenenia_tid=All&page=0%d' % (i)\n",
    "    r = requests.get(url)\n",
    "    page = BeautifulSoup(r.text, 'html.parser')\n",
    "    table = page.tbody #Таблицы обрамлены тегом 'tbody', помещаются в переменную\n",
    "\n",
    "    # Проход по строкам\n",
    "    for row in table.find_all('tr')[:]:\n",
    "        \n",
    "    # Выделение нужных ячеек по тегам и индексам, помещение их в соотвествующую колонку (список) \n",
    "        col = row.find_all('td')\n",
    "        col_l= row.find_all('a')\n",
    "        col_d= row.find_all('span')\n",
    "        \n",
    "\n",
    "        \n",
    "        column_1 = col_l[0].string.strip()\n",
    "        \n",
    "        link.append(column_1)\n",
    "\n",
    "        \n",
    "        column_2 = col[1].string.strip()\n",
    "        \n",
    "        fase.append(column_2)\n",
    "\n",
    "        \n",
    "        column_3 = col_d[0].string.strip()\n",
    "        \n",
    "        date.append(column_3)\n",
    "\n",
    "        \n",
    "        column_4 = col[3].string.strip()\n",
    "        \n",
    "        field.append(column_4)\n",
    "\n",
    "        \n",
    "        column_5 = col[4].string.strip()\n",
    "        \n",
    "        tipe.append(column_5)\n",
    "\n",
    "        \n",
    "        column_7 = col_l[0] ['href']#.string.strip()\n",
    "        \n",
    "        non.append(column_7)\n",
    "\n",
    "        \n",
    "        column_8 = col[6]\n",
    "        \n",
    "        non2n.append(column_8)\n",
    "\n",
    "    "
   ]
  },
  {
   "cell_type": "code",
   "execution_count": 9,
   "metadata": {
    "collapsed": false
   },
   "outputs": [],
   "source": [
    "import pandas as pd\n",
    "# Названия колонок и присваивание им значений (полученных списков )\n",
    "columns = {'date': date, 'fase': fase, 'link': link, 'field': field, 'tipe': tipe, 'non': non}#, 'non2n': non2n\n",
    "\n",
    "# Табличка в датафрейм\n",
    "df = pd.DataFrame(columns)"
   ]
  },
  {
   "cell_type": "code",
   "execution_count": 10,
   "metadata": {
    "collapsed": false
   },
   "outputs": [
    {
     "data": {
      "text/plain": [
       "(889, 6)"
      ]
     },
     "execution_count": 10,
     "metadata": {},
     "output_type": "execute_result"
    }
   ],
   "source": [
    "df.shape"
   ]
  },
  {
   "cell_type": "code",
   "execution_count": 11,
   "metadata": {
    "collapsed": false
   },
   "outputs": [
    {
     "data": {
      "text/html": [
       "<div>\n",
       "<table border=\"1\" class=\"dataframe\">\n",
       "  <thead>\n",
       "    <tr style=\"text-align: right;\">\n",
       "      <th></th>\n",
       "      <th>date</th>\n",
       "      <th>fase</th>\n",
       "      <th>field</th>\n",
       "      <th>link</th>\n",
       "      <th>non</th>\n",
       "      <th>tipe</th>\n",
       "    </tr>\n",
       "  </thead>\n",
       "  <tbody>\n",
       "    <tr>\n",
       "      <th>0</th>\n",
       "      <td>08.09.2015</td>\n",
       "      <td>IIa</td>\n",
       "      <td>ММКИ</td>\n",
       "      <td>CNTO136-MDD-2001</td>\n",
       "      <td>/node/7816</td>\n",
       "      <td>Иммунология</td>\n",
       "    </tr>\n",
       "    <tr>\n",
       "      <th>1</th>\n",
       "      <td>01.09.2015</td>\n",
       "      <td>IIb</td>\n",
       "      <td>ММКИ</td>\n",
       "      <td>CQGE031B2204</td>\n",
       "      <td>/node/7784</td>\n",
       "      <td>Пульмонология</td>\n",
       "    </tr>\n",
       "    <tr>\n",
       "      <th>2</th>\n",
       "      <td>27.08.2015</td>\n",
       "      <td>III</td>\n",
       "      <td>ММКИ</td>\n",
       "      <td>MYL-1401A-3001</td>\n",
       "      <td>/node/7787</td>\n",
       "      <td>Дерматология</td>\n",
       "    </tr>\n",
       "    <tr>\n",
       "      <th>3</th>\n",
       "      <td>01.09.2015</td>\n",
       "      <td>IIIb</td>\n",
       "      <td>ММКИ</td>\n",
       "      <td>A4061008</td>\n",
       "      <td>/node/7788</td>\n",
       "      <td>Онкология</td>\n",
       "    </tr>\n",
       "    <tr>\n",
       "      <th>4</th>\n",
       "      <td>01.10.2015</td>\n",
       "      <td>III</td>\n",
       "      <td>ММКИ</td>\n",
       "      <td>РМ1331</td>\n",
       "      <td>/node/7771</td>\n",
       "      <td>Дерматология</td>\n",
       "    </tr>\n",
       "  </tbody>\n",
       "</table>\n",
       "</div>"
      ],
      "text/plain": [
       "         date  fase field              link         non           tipe\n",
       "0  08.09.2015   IIa  ММКИ  CNTO136-MDD-2001  /node/7816    Иммунология\n",
       "1  01.09.2015   IIb  ММКИ      CQGE031B2204  /node/7784  Пульмонология\n",
       "2  27.08.2015   III  ММКИ    MYL-1401A-3001  /node/7787   Дерматология\n",
       "3  01.09.2015  IIIb  ММКИ          A4061008  /node/7788      Онкология\n",
       "4  01.10.2015   III  ММКИ            РМ1331  /node/7771   Дерматология"
      ]
     },
     "execution_count": 11,
     "metadata": {},
     "output_type": "execute_result"
    }
   ],
   "source": [
    "df.head()"
   ]
  },
  {
   "cell_type": "code",
   "execution_count": 12,
   "metadata": {
    "collapsed": true
   },
   "outputs": [],
   "source": [
    "#Сохраняем в файл\n",
    "df.to_csv('clin_res.csv', index=True)"
   ]
  },
  {
   "cell_type": "code",
   "execution_count": 22,
   "metadata": {
    "collapsed": false
   },
   "outputs": [],
   "source": [
    "# В полученной таблице, в колонке 'non', внутренний линк с характеристиками исследования.\n",
    "# Далее идет скрипт, который берет эти линки, ходит по ним и собирает данные в датафрейм.\n",
    "\n",
    "date_s=[]\n",
    "date_e=[]\n",
    "nom_r=[]\n",
    "nom_p=[]\n",
    "nom_rki=[]\n",
    "prt=[]\n",
    "cntr=[]\n",
    "org=[]\n",
    "subj=[]\n",
    "rschrs=[]\n",
    "#Проход по линкам\n",
    "for linkz in df.non:\n",
    "    #Получение линка \n",
    "    url2='http://nik2.itsvc.ru/'+linkz\n",
    "    #Получение данных по линку\n",
    "    g= requests.get(url2)\n",
    "    #Оформление (обрамление) данных\n",
    "    page2 = BeautifulSoup(g.text, 'html.parser')\n",
    "    #Выделение нужных ячеек по тегам и индексам, помещение их в соотвествующую колонку (список)\n",
    "    dt=page2.find_all('span')\n",
    "    column_10=dt[3].string.strip()\n",
    "    date_s.append(column_10)\n",
    "    column_11=dt[4].string.strip()\n",
    "    date_e.append(column_11)\n",
    "    \n",
    "    dn = page2.find_all('div', class_=\"field-item even\")  \n",
    "    column_12 = dn[2].string.strip()\n",
    "    nom_p.append(column_12)\n",
    "    column_13 = dn[3].string.strip()\n",
    "    nom_rki.append(column_13)\n",
    "    column_14 = dn[4].string.strip()\n",
    "    prt.append(column_14)\n",
    "    \n",
    "    #Забирает из таблицы (если она есть), кол-во исследователей, испытуемых, субъектов РФ\n",
    "    drr = page2.find_all('li', class_=\"taxonomy-term-reference-0\") \n",
    "    column_16=drr[1].string.strip()\n",
    "    cntr.append(column_16)\n",
    "    lst1=[]\n",
    "    lst2=[]\n",
    "    lst3=[]\n",
    "    table3 = page2.tbody\n",
    "    if table3!=None:\n",
    "        for rowz in table3.find_all('tr')[:]:\n",
    "            col2 = rowz.find_all('td')\n",
    "            col3=rowz.find_all('a')\n",
    "\n",
    "            column_17=col3[0].string.strip()\n",
    "            lst1.append(column_17)\n",
    "            column_18=col3[1].string.strip()\n",
    "            lst2.append(column_18)\n",
    "            column_19=col2[2].string.strip()\n",
    "            lst3.append(column_19)\n",
    "        org.append(lst1)\n",
    "        subj.append(lst3)\n",
    "        rschrs.append(lst2)\n",
    "        nom_r.append(len(lst2))\n",
    "    else:\n",
    "        org.append(lst1)\n",
    "        subj.append(lst3)\n",
    "        rschrs.append(lst2)\n",
    "        nom_r.append(len(lst2))"
   ]
  },
  {
   "cell_type": "code",
   "execution_count": 31,
   "metadata": {
    "collapsed": false
   },
   "outputs": [
    {
     "data": {
      "text/plain": [
       "(889, 10)"
      ]
     },
     "execution_count": 31,
     "metadata": {},
     "output_type": "execute_result"
    }
   ],
   "source": [
    "# Собирается второй датафрейм, более полный\n",
    "columns2 = {'Начало иссл.': date_s, 'Конец иссл.': date_e, 'Кол-во исследователей': nom_r, 'Кол-во испытуемых': nom_p, 'nom_rki': nom_rki, 'Протокол': prt,'Организации': org, 'Субъекты РФ': subj,'Страна': cntr,  'Исследователи' : rschrs}\n",
    "df2 = pd.DataFrame(columns2)\n",
    "df2.shape"
   ]
  },
  {
   "cell_type": "code",
   "execution_count": 32,
   "metadata": {
    "collapsed": false
   },
   "outputs": [
    {
     "data": {
      "text/html": [
       "<div>\n",
       "<table border=\"1\" class=\"dataframe\">\n",
       "  <thead>\n",
       "    <tr style=\"text-align: right;\">\n",
       "      <th></th>\n",
       "      <th>nom_rki</th>\n",
       "      <th>Исследователи</th>\n",
       "      <th>Кол-во испытуемых</th>\n",
       "      <th>Кол-во исследователей</th>\n",
       "      <th>Конец иссл.</th>\n",
       "      <th>Начало иссл.</th>\n",
       "      <th>Организации</th>\n",
       "      <th>Протокол</th>\n",
       "      <th>Страна</th>\n",
       "      <th>Субъекты РФ</th>\n",
       "    </tr>\n",
       "  </thead>\n",
       "  <tbody>\n",
       "    <tr>\n",
       "      <th>0</th>\n",
       "      <td>491</td>\n",
       "      <td>[Смулевич Анатолий Болеславович, Агарков Алекс...</td>\n",
       "      <td>180</td>\n",
       "      <td>12</td>\n",
       "      <td>01.04.2017</td>\n",
       "      <td>08.09.2015</td>\n",
       "      <td>[ПКБ №1 им. Н.А. Алексеева, НИИ психического з...</td>\n",
       "      <td>№ CNTO136-MDD-2001 \"Многоцентровое, двойное сл...</td>\n",
       "      <td>Бельгия</td>\n",
       "      <td>[г. Москва, Томская область, Смоленская област...</td>\n",
       "    </tr>\n",
       "    <tr>\n",
       "      <th>1</th>\n",
       "      <td>471</td>\n",
       "      <td>[Шапорова Наталия Леонидовна, Астафьева Наталь...</td>\n",
       "      <td>90</td>\n",
       "      <td>5</td>\n",
       "      <td>31.12.2017</td>\n",
       "      <td>01.09.2015</td>\n",
       "      <td>[СПб ГУЗ«ГКДЦ №1», ГОУ ВПО Саратовский ГМУ им....</td>\n",
       "      <td>№ CQGE031B2204 \"«Многоцентровое, рандомизирова...</td>\n",
       "      <td>Швейцария</td>\n",
       "      <td>[г. Санкт - Петербург, Саратовская область, Ря...</td>\n",
       "    </tr>\n",
       "    <tr>\n",
       "      <th>2</th>\n",
       "      <td>468</td>\n",
       "      <td>[Халилов Булат Василович, Самцов Алексей Викто...</td>\n",
       "      <td>71</td>\n",
       "      <td>8</td>\n",
       "      <td>15.06.2017</td>\n",
       "      <td>27.08.2015</td>\n",
       "      <td>[ГБОУ ВПО Казанский ГМУ Минздравсоцразвития Ро...</td>\n",
       "      <td>№ MYL-1401A-3001 \"Многоцентровое, двойное слеп...</td>\n",
       "      <td>Швейцария</td>\n",
       "      <td>[Республика Татарстан (Татарстан), г. Санкт - ...</td>\n",
       "    </tr>\n",
       "    <tr>\n",
       "      <th>3</th>\n",
       "      <td>467</td>\n",
       "      <td>[Демидов Лев Вадимович, Бычков Юрий Маркович, ...</td>\n",
       "      <td>13</td>\n",
       "      <td>3</td>\n",
       "      <td>21.06.2017</td>\n",
       "      <td>01.09.2015</td>\n",
       "      <td>[ФГБНУ «РОНЦ им. Н.Н. Блохина», ФГУ «РНЦРР» Ми...</td>\n",
       "      <td>№ A4061008 «Продление доступа к препарату AG-0...</td>\n",
       "      <td>США</td>\n",
       "      <td>[г. Москва, г. Москва, г. Санкт - Петербург]</td>\n",
       "    </tr>\n",
       "    <tr>\n",
       "      <th>4</th>\n",
       "      <td>484</td>\n",
       "      <td>[Кубанов Алексей Алексеевич, Рахматулина Марга...</td>\n",
       "      <td>150</td>\n",
       "      <td>7</td>\n",
       "      <td>01.12.2017</td>\n",
       "      <td>01.10.2015</td>\n",
       "      <td>[ГБОУ ДПО РМАПО Минздравсоцразвития России, ФГ...</td>\n",
       "      <td>№ РМ1331 \"Многоцентровое, рандомизированное, д...</td>\n",
       "      <td>Швейцария</td>\n",
       "      <td>[г. Москва, г. Москва, г. Санкт - Петербург, г...</td>\n",
       "    </tr>\n",
       "  </tbody>\n",
       "</table>\n",
       "</div>"
      ],
      "text/plain": [
       "  nom_rki                                      Исследователи  \\\n",
       "0     491  [Смулевич Анатолий Болеславович, Агарков Алекс...   \n",
       "1     471  [Шапорова Наталия Леонидовна, Астафьева Наталь...   \n",
       "2     468  [Халилов Булат Василович, Самцов Алексей Викто...   \n",
       "3     467  [Демидов Лев Вадимович, Бычков Юрий Маркович, ...   \n",
       "4     484  [Кубанов Алексей Алексеевич, Рахматулина Марга...   \n",
       "\n",
       "  Кол-во испытуемых  Кол-во исследователей Конец иссл. Начало иссл.  \\\n",
       "0               180                     12  01.04.2017   08.09.2015   \n",
       "1                90                      5  31.12.2017   01.09.2015   \n",
       "2                71                      8  15.06.2017   27.08.2015   \n",
       "3                13                      3  21.06.2017   01.09.2015   \n",
       "4               150                      7  01.12.2017   01.10.2015   \n",
       "\n",
       "                                         Организации  \\\n",
       "0  [ПКБ №1 им. Н.А. Алексеева, НИИ психического з...   \n",
       "1  [СПб ГУЗ«ГКДЦ №1», ГОУ ВПО Саратовский ГМУ им....   \n",
       "2  [ГБОУ ВПО Казанский ГМУ Минздравсоцразвития Ро...   \n",
       "3  [ФГБНУ «РОНЦ им. Н.Н. Блохина», ФГУ «РНЦРР» Ми...   \n",
       "4  [ГБОУ ДПО РМАПО Минздравсоцразвития России, ФГ...   \n",
       "\n",
       "                                            Протокол     Страна  \\\n",
       "0  № CNTO136-MDD-2001 \"Многоцентровое, двойное сл...    Бельгия   \n",
       "1  № CQGE031B2204 \"«Многоцентровое, рандомизирова...  Швейцария   \n",
       "2  № MYL-1401A-3001 \"Многоцентровое, двойное слеп...  Швейцария   \n",
       "3  № A4061008 «Продление доступа к препарату AG-0...        США   \n",
       "4  № РМ1331 \"Многоцентровое, рандомизированное, д...  Швейцария   \n",
       "\n",
       "                                         Субъекты РФ  \n",
       "0  [г. Москва, Томская область, Смоленская област...  \n",
       "1  [г. Санкт - Петербург, Саратовская область, Ря...  \n",
       "2  [Республика Татарстан (Татарстан), г. Санкт - ...  \n",
       "3       [г. Москва, г. Москва, г. Санкт - Петербург]  \n",
       "4  [г. Москва, г. Москва, г. Санкт - Петербург, г...  "
      ]
     },
     "execution_count": 32,
     "metadata": {},
     "output_type": "execute_result"
    }
   ],
   "source": [
    "df2.head()"
   ]
  },
  {
   "cell_type": "code",
   "execution_count": 33,
   "metadata": {
    "collapsed": true
   },
   "outputs": [],
   "source": [
    "#Сохраняем в файл\n",
    "df2.to_csv('clin_res2.csv', index=True)"
   ]
  }
 ],
 "metadata": {
  "kernelspec": {
   "display_name": "Python 3",
   "language": "python",
   "name": "python3"
  },
  "language_info": {
   "codemirror_mode": {
    "name": "ipython",
    "version": 3
   },
   "file_extension": ".py",
   "mimetype": "text/x-python",
   "name": "python",
   "nbconvert_exporter": "python",
   "pygments_lexer": "ipython3",
   "version": "3.4.4"
  }
 },
 "nbformat": 4,
 "nbformat_minor": 0
}
